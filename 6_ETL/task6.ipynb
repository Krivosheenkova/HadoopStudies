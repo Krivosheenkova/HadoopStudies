{
 "cells": [
  {
   "attachments": {},
   "cell_type": "markdown",
   "metadata": {},
   "source": [
    "# ETL"
   ]
  },
  {
   "cell_type": "markdown",
   "metadata": {},
   "source": [
    "## Sqoop"
   ]
  },
  {
   "cell_type": "markdown",
   "metadata": {},
   "source": [
    "#### Создать отдельную БД в HIve или использовать свою с прошлых занятий\n",
    "\n",
    "`use el_student_4652746;`"
   ]
  },
  {
   "cell_type": "markdown",
   "metadata": {},
   "source": [
    "#### Посмотреть при помощи SQOOP содержимое БД в Postgresql (список таблиц)\n",
    "\n",
    "`$ sqoop list-tables --connect jdbc:postgresql://10.0.0.7/student21 --username exporter --password exporter_pass`\n",
    "\n",
    "![image](./screenshots/sqoop-list-tables02.png)"
   ]
  },
  {
   "cell_type": "markdown",
   "metadata": {
    "heading_collapsed": true
   },
   "source": [
    "#### Импортировать данные из Postgresql в hive без создания таблицы\n",
    "\n",
    "`$ sqoop import --connect jdbc:postgresql://10.0.0.7/student21 --username exporter --password exporter_pass --table sqoop_test --hive-import --hive-database el_student_4652746 -m 1`\n",
    "![image](./screenshots/sqoop-import.png)"
   ]
  },
  {
   "cell_type": "markdown",
   "metadata": {},
   "source": [
    "#### Найти папку куда сохранились данные, посмотреть их размер\n",
    "`$ hdfs dfs -du -h ./krivosheenkova/sqoop_test/*`\n",
    "![image](./screenshots/sqoop_test-size-cat02.png)"
   ]
  },
  {
   "cell_type": "markdown",
   "metadata": {},
   "source": [
    "#### Создать таблицу в hive с партициями и загрузить в одну партицию данные\n",
    "`CREATE external TABLE sqoop_hive_part(id int, data string) \n",
    "partitioned by (dt string) \n",
    "ROW FORMAT SERDE 'org.apache.hadoop.hive.serde2.OpenCSVSerde' \n",
    "WITH SERDEPROPERTIES ('field.delim' = ',') \n",
    "LOCATION '/user/el_student_4652746/krivosheenkova/sqoop_p';`\n",
    "![image](./screenshots/create_part_table.png)\n",
    "\n",
    "\n",
    "`$ hdfs dfs -mkdir /user/el_student_4652746/krivosheenkova/sqoop_p && hdfs dfs -chmod 777 /user/el_student_4652746/krivosheenkova/sqoop_p`\n",
    "\n",
    "\n",
    "``$ DATE=`date '+%Y-%m-%d'` && sqoop import --connect jdbc:postgresql://10.0.0.7/student21 --username exporter --password exporter_pass --table sqoop_test --target-dir /user/el_student_4652746/krivosheenkova/sqoop_p/dt=$DATE --delete-target-dir -m 1``\n",
    "![image](./screenshots/sqoop-hive-part-import.png)\n",
    "\n",
    "\n",
    "`msck repair table sqoop_hive_part;`\n",
    "![image](./screenshots/sqoop-hive-part-repair-select.png)"
   ]
  },
  {
   "cell_type": "markdown",
   "metadata": {},
   "source": [
    "## Flume"
   ]
  },
  {
   "cell_type": "markdown",
   "metadata": {},
   "source": [
    "#### Поправить скрипт генерации данных, добавить удалить колонки  \n",
    "````\n",
    "START_DATE=`date`\n",
    "\n",
    "COUNT=0\n",
    "echo -e Life'\\t\\t'::'\\t'Now Date'\\t\\t'::'\\t'Start Date'\\t\\t'::'\\t'Action Count'\\t\\t'::'\\t'Key'\\t\\t'::'\\t'MAC\n",
    "while [ true ]\n",
    "do\n",
    "\n",
    "  NOW_DATE=`date`\n",
    "\n",
    "  RANDSTR=`< /dev/urandom tr -dc _A-Z-a-z-0-9 | head -c${1:-16};echo;`\n",
    "\n",
    "  RANDMAC=`hexdump -n 6 -ve '1/1 \"%.2x \"' /dev/random | awk -v a=\"2,6,a,e\" -v r=\"$RANDOM\" 'BEGIN{srand(r);}NR==1{split(a,b,\",\");r=int(rand()*4+1);printf \"%s%s:%s:%s:%s:%s:%s\\n\",substr($1,0,1),b[r],$2,$3,$4,$5,$6}'`\n",
    "\n",
    "  echo -e I live for $(( `date -d \"$NOW_DATE\" +%s` - `date -d \"$START_DATE\" +%s` )) seconds'\\t'`(date -d \"$NOW_DATE\" +%Y-%m-%d:%H.%M.%S)`'\\t'`(date -d \"$START_DATE\" +%Y-%m-%d:%H.%M.%S)`'\\t'I did it $(( $COUNT + 1 )) times'\\t'$RANDSTR'\\t'$RANDMAC\n",
    "\n",
    "  COUNT=$(( $COUNT + 1 ))\n",
    "\n",
    "\n",
    "        sleep 10\n",
    "\n",
    "done\n"
   ]
  },
  {
   "cell_type": "markdown",
   "metadata": {},
   "source": [
    "#### Создайте таблицу в hive\n",
    "`drop table if exists flume_logs;`\n",
    "\n",
    "`create external table el_student_4652746.flume_logs (Life string, Now_Date string, Start_Date string, Action_Count string, Key string, MAC string)\n",
    "ROW FORMAT SERDE 'org.apache.hadoop.hive.serde2.lazy.LazySimpleSerDe'\n",
    "WITH SERDEPROPERTIES('field.delim'='\\t')\n",
    "STORED AS INPUTFORMAT 'org.apache.hadoop.mapred.SequenceFileInputFormat'\n",
    "OUTPUTFORMAT 'org.apache.hadoop.hive.ql.io.HiveSequenceFileOutputFormat'\n",
    "location '/user/el_student_4652746/krivosheenkova/flume'\n",
    "tblproperties (\"skip.header.line.count\"=\"1\");`\n",
    "\n",
    "![image](./screenshots/create_flume_logs_table.png)"
   ]
  },
  {
   "cell_type": "markdown",
   "metadata": {},
   "source": [
    "#### Запустите свой flume агент\n",
    "`$ hdfs dfs -mkdir -p /user/el_student_4652746/krivosheenkova/flume`\n",
    "\n",
    "`$ /opt/apache-flume/bin/flume-ng agent --conf /home/el_student_4652746 --conf-file /home/el_student_4652746/flume.conf --name StudentFlume -Dflume.root.logger=INFO,console`\n",
    "![image](./screenshots/flume-streaming02.png)"
   ]
  },
  {
   "cell_type": "markdown",
   "metadata": {},
   "source": [
    "#### Покажите запрос к таблице, данные должны правильно раскладываться по колонкам (в практике из методички есть ошибка=) )\n",
    "`select * from el_student_4652746.flume_logs limit 5;`\n",
    "\n",
    "![image](./screenshots/flume-logs-select.png)"
   ]
  }
 ],
 "metadata": {
  "kernelspec": {
   "display_name": "Python 3",
   "language": "python",
   "name": "python3"
  },
  "language_info": {
   "codemirror_mode": {
    "name": "ipython",
    "version": 3
   },
   "file_extension": ".py",
   "mimetype": "text/x-python",
   "name": "python",
   "nbconvert_exporter": "python",
   "pygments_lexer": "ipython3",
   "version": "3.8.5"
  },
  "toc": {
   "base_numbering": 1,
   "nav_menu": {},
   "number_sections": false,
   "sideBar": true,
   "skip_h1_title": false,
   "title_cell": "Table of Contents",
   "title_sidebar": "Contents",
   "toc_cell": false,
   "toc_position": {
    "height": "544.545px",
    "left": "43px",
    "top": "196.991px",
    "width": "290.909px"
   },
   "toc_section_display": true,
   "toc_window_display": true
  }
 },
 "nbformat": 4,
 "nbformat_minor": 4
}
